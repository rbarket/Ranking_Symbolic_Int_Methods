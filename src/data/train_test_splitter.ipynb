{
 "cells": [
  {
   "cell_type": "markdown",
   "metadata": {},
   "source": [
    "## Notebook that takes the raw data and splits it into train and test sets"
   ]
  },
  {
   "cell_type": "code",
   "execution_count": 1,
   "metadata": {},
   "outputs": [],
   "source": [
    "from sklearn.model_selection import train_test_split"
   ]
  },
  {
   "cell_type": "code",
   "execution_count": 9,
   "metadata": {},
   "outputs": [],
   "source": [
    "import json\n",
    "\n",
    "with open('/home/barketr/Desktop/TreeLSTM2/Data/All Data/BWD/BWD_all.json') as f:\n",
    "    bwd = json.load(f)\n",
    "with open('/home/barketr/Desktop/TreeLSTM2/Data/All Data/FWD/FWD_all.json') as f:\n",
    "    fwd = json.load(f)\n",
    "with open('/home/barketr/Desktop/TreeLSTM2/Data/All Data/IBP/IBP_all.json') as f:\n",
    "    ibp = json.load(f)\n",
    "with open('/home/barketr/Desktop/TreeLSTM2/Data/All Data/SUB/SUB_all.json') as f:\n",
    "    sub = json.load(f)\n",
    "with open('/home/barketr/Desktop/TreeLSTM2/Data/All Data/RISCH/RISCH_all.json') as f:\n",
    "    risch = json.load(f)\n",
    "  "
   ]
  },
  {
   "cell_type": "code",
   "execution_count": 10,
   "metadata": {},
   "outputs": [
    {
     "data": {
      "text/plain": [
       "67732"
      ]
     },
     "execution_count": 10,
     "metadata": {},
     "output_type": "execute_result"
    }
   ],
   "source": [
    "len(sub)"
   ]
  },
  {
   "cell_type": "code",
   "execution_count": 16,
   "metadata": {},
   "outputs": [],
   "source": [
    "from random import sample\n",
    "\n",
    "bwd_s = sample(bwd, 450000)\n",
    "fwd_s = sample(fwd, 500000)\n",
    "ibp_s = sample(ibp, 500000)\n",
    "# sub_s = sample(sub, 50000)\n",
    "risch_s = sample(risch, 450000)"
   ]
  },
  {
   "cell_type": "code",
   "execution_count": null,
   "metadata": {},
   "outputs": [],
   "source": []
  },
  {
   "cell_type": "code",
   "execution_count": 17,
   "metadata": {},
   "outputs": [],
   "source": [
    "bwd_train, bwd_test = train_test_split(bwd_s, test_size=20000, random_state=1998)\n",
    "fwd_train, fwd_test = train_test_split(fwd_s, test_size=20000, random_state=1998)\n",
    "ibp_train, ibp_test = train_test_split(ibp_s, test_size=20000, random_state=1998)\n",
    "sub_train, sub_test = train_test_split(sub, test_size=17000, random_state=1998)\n",
    "risch_train, risch_test = train_test_split(risch_s, test_size=20000, random_state=1998)"
   ]
  },
  {
   "cell_type": "code",
   "execution_count": 19,
   "metadata": {},
   "outputs": [
    {
     "data": {
      "text/plain": [
       "430000"
      ]
     },
     "execution_count": 19,
     "metadata": {},
     "output_type": "execute_result"
    }
   ],
   "source": [
    "len(bwd_train)"
   ]
  },
  {
   "cell_type": "code",
   "execution_count": 20,
   "metadata": {},
   "outputs": [],
   "source": [
    "# Write the list to a JSON file\n",
    "with open('/home/barketr/Desktop/TreeLSTM2/Data/All Data/Small data/Train/BWD_train.json', 'w') as json_file:\n",
    "    json.dump(bwd_train, json_file, indent=2)\n",
    "with open('/home/barketr/Desktop/TreeLSTM2/Data/All Data/Small data/Test/BWD_test.json', 'w') as json_file:\n",
    "    json.dump(bwd_test, json_file, indent=2)\n",
    "    \n",
    "with open('/home/barketr/Desktop/TreeLSTM2/Data/All Data/Small data/Train/FWD_train.json', 'w') as json_file:\n",
    "    json.dump(fwd_train, json_file, indent=2)\n",
    "with open('/home/barketr/Desktop/TreeLSTM2/Data/All Data/Small data/Test/FWD_test.json', 'w') as json_file:\n",
    "    json.dump(fwd_test, json_file, indent=2)\n",
    "    \n",
    "with open('/home/barketr/Desktop/TreeLSTM2/Data/All Data/Small data/Train/IBP_train.json', 'w') as json_file:\n",
    "    json.dump(ibp_train, json_file, indent=2)\n",
    "with open('/home/barketr/Desktop/TreeLSTM2/Data/All Data/Small data/Test/IBP_test.json', 'w') as json_file:\n",
    "    json.dump(ibp_test, json_file, indent=2)\n",
    "    \n",
    "with open('/home/barketr/Desktop/TreeLSTM2/Data/All Data/Small data/Train/SUB_train.json', 'w') as json_file:\n",
    "    json.dump(sub_train, json_file, indent=2)\n",
    "with open('/home/barketr/Desktop/TreeLSTM2/Data/All Data/Small data/Test/SUB_test.json', 'w') as json_file:\n",
    "    json.dump(sub_test, json_file, indent=2)\n",
    "\n",
    "with open('/home/barketr/Desktop/TreeLSTM2/Data/All Data/Small data/Train/RISCH_train.json', 'w') as json_file:\n",
    "    json.dump(risch_train, json_file, indent=2)\n",
    "with open('/home/barketr/Desktop/TreeLSTM2/Data/All Data/Small data/Test/RISCH_test.json', 'w') as json_file:\n",
    "    json.dump(risch_test, json_file, indent=2)"
   ]
  },
  {
   "cell_type": "markdown",
   "metadata": {},
   "source": [
    "# For Special Functions"
   ]
  },
  {
   "cell_type": "code",
   "execution_count": 2,
   "metadata": {},
   "outputs": [],
   "source": [
    "import json\n",
    "from pathlib import Path\n",
    "\n",
    "with open('/home/barketr/Desktop/TreeLSTM2/Data/All Data/Special/FWD/FWD_special_all.json') as f:\n",
    "    fwd_special = json.load(f)\n",
    "with open('/home/barketr/Desktop/TreeLSTM2/Data/All Data/Special/BWD/BWD_special_all.json') as f:\n",
    "    bwd_special = json.load(f)"
   ]
  },
  {
   "cell_type": "code",
   "execution_count": 3,
   "metadata": {},
   "outputs": [
    {
     "data": {
      "text/plain": [
       "(58800, 82748)"
      ]
     },
     "execution_count": 3,
     "metadata": {},
     "output_type": "execute_result"
    }
   ],
   "source": [
    "BWD = [item for item in bwd_special if item[2] != '0' or item[2] != '-1']\n",
    "FWD = [item for item in fwd_special if item[2] != '0' or item[2] != '-1']\n",
    "len(FWD), len(BWD)"
   ]
  },
  {
   "cell_type": "code",
   "execution_count": 4,
   "metadata": {},
   "outputs": [],
   "source": [
    "bwd_train, bwd_test = train_test_split(BWD, test_size=10000, random_state=1998)\n",
    "fwd_train, fwd_test = train_test_split(FWD, test_size=10000, random_state=1998)"
   ]
  },
  {
   "cell_type": "code",
   "execution_count": 5,
   "metadata": {},
   "outputs": [],
   "source": [
    "# Write the list to a JSON file\n",
    "with open('/home/barketr/Desktop/TreeLSTM2/Data/All Data/Small data/Train/BWD_special_train.json', 'w') as json_file:\n",
    "    json.dump(bwd_train, json_file, indent=2)\n",
    "with open('/home/barketr/Desktop/TreeLSTM2/Data/All Data/Small data/Test/BWD_special_test.json', 'w') as json_file:\n",
    "    json.dump(bwd_test, json_file, indent=2)\n",
    "    \n",
    "# Write the list to a JSON file\n",
    "with open('/home/barketr/Desktop/TreeLSTM2/Data/All Data/Small data/Train/FWD_special_train.json', 'w') as json_file:\n",
    "    json.dump(fwd_train, json_file, indent=2)\n",
    "with open('/home/barketr/Desktop/TreeLSTM2/Data/All Data/Small data/Test/FWD_special_test.json', 'w') as json_file:\n",
    "    json.dump(fwd_test, json_file, indent=2)"
   ]
  },
  {
   "cell_type": "code",
   "execution_count": null,
   "metadata": {},
   "outputs": [],
   "source": []
  }
 ],
 "metadata": {
  "kernelspec": {
   "display_name": "TreeLSTM_DGL",
   "language": "python",
   "name": "python3"
  },
  "language_info": {
   "codemirror_mode": {
    "name": "ipython",
    "version": 3
   },
   "file_extension": ".py",
   "mimetype": "text/x-python",
   "name": "python",
   "nbconvert_exporter": "python",
   "pygments_lexer": "ipython3",
   "version": "3.10.13"
  }
 },
 "nbformat": 4,
 "nbformat_minor": 2
}
